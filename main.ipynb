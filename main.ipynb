{
 "cells": [
  {
   "cell_type": "markdown",
   "metadata": {},
   "source": [
    "# Workflow\n",
    "\n",
    "You need the following project structure:\n",
    "\n",
    "    |_main.ipynb\n",
    "    |_<b>cyrillic_textgrids</b>\n",
    "                |_<i>YourTextgrid</i>.TextGrid\n",
    "    |_<b>latin_textgrids</b>\n",
    "    |_gridtext.py\n",
    "    |_heap.py\n",
    "    |_setup_logger.py\n",
    "    |_tests.py\n",
    "    |_<i>YourTransliterationDictionary</i>.csv"
   ]
  },
  {
   "cell_type": "code",
   "execution_count": 1,
   "metadata": {},
   "outputs": [
    {
     "name": "stdout",
     "output_type": "stream",
     "text": [
      "Defaulting to user installation because normal site-packages is not writeable\n",
      "Collecting praatio==5.1.1\n",
      "  Using cached praatio-5.1.1-py3-none-any.whl (77 kB)\n",
      "Collecting typing-extensions\n",
      "  Downloading typing_extensions-4.6.3-py3-none-any.whl (31 kB)\n",
      "Installing collected packages: typing-extensions, praatio\n",
      "Successfully installed praatio-5.1.1 typing-extensions-4.6.3\n"
     ]
    }
   ],
   "source": [
    "# Run\n",
    "!pip install praatio==5.1.1"
   ]
  },
  {
   "cell_type": "code",
   "execution_count": 6,
   "metadata": {},
   "outputs": [],
   "source": [
    "# Run\n",
    "from os import walk\n",
    "from os.path import join\n",
    "from gridtext import GridText, GridTextTranscribed, get_translit_dict\n",
    "from heap import make_heap\n",
    "from tests import TestGridText"
   ]
  },
  {
   "cell_type": "markdown",
   "metadata": {},
   "source": [
    "## Transliteration code workflow"
   ]
  },
  {
   "cell_type": "markdown",
   "metadata": {},
   "source": [
    "### Step 1\n",
    "\n",
    "First, the code replaces blank translation of Russian in transcription, for example:\n",
    "\n",
    "![blank](img/blank_translation.png)\n",
    "\n",
    "This should be done so that you can align the borders and not lose empty intervals."
   ]
  },
  {
   "cell_type": "markdown",
   "metadata": {},
   "source": [
    "### Step 3\n",
    "\n",
    "Then, it transliterates transcription tier."
   ]
  },
  {
   "cell_type": "markdown",
   "metadata": {},
   "source": [
    "### Step 4\n",
    "\n",
    "And finally, it saves transliterated TextGrid file."
   ]
  },
  {
   "cell_type": "markdown",
   "metadata": {},
   "source": [
    "### Code\n",
    "\n",
    "First, specify transcription and translation tier names in TextGrids (they should be the same in all texts) and the name of transliteration dictionary:"
   ]
  },
  {
   "cell_type": "code",
   "execution_count": 3,
   "metadata": {},
   "outputs": [],
   "source": [
    "# Edit\n",
    "tiernames = ['2', '1']  # [translation tier, transcription tier]\n",
    "dictionary_filename = 'transl_dict.csv'  # name of transliteration dictionary (Rutul by default)"
   ]
  },
  {
   "cell_type": "code",
   "execution_count": 7,
   "metadata": {},
   "outputs": [],
   "source": [
    "# Run\n",
    "\n",
    "for root, dirs, files in walk('cyrillic_textgrids'):\n",
    "    for tg_name in files:\n",
    "        \n",
    "        # Step 1\n",
    "        \n",
    "        path_to_tg = join('cyrillic_textgrids', tg_name)\n",
    "        test_tg = GridText.from_tg_file(path_to_tg, *tiernames)\n",
    "        test_tg.replace_blank_translation()\n",
    "\n",
    "        # Step 2\n",
    "\n",
    "        transliteration_dictionary = get_translit_dict(dictionary_filename)\n",
    "        transliterated_tg = test_tg.transliterate_tg('3', transliteration_dictionary)\n",
    "\n",
    "        # Step 3\n",
    "\n",
    "        path_to_tg_save = join('latin_textgrids', tg_name)\n",
    "        transliterated_tg.save_tg(path_to_tg_save)"
   ]
  },
  {
   "cell_type": "markdown",
   "metadata": {},
   "source": [
    "## Heap workflow (in progress)"
   ]
  },
  {
   "cell_type": "markdown",
   "metadata": {},
   "source": [
    "## Step 5\n",
    "\n",
    "Align boundaries on tiers, to avoid mistakes when searching for a translation:\n",
    "\n",
    "![misclick](img/misclicks.png)\n",
    "\n",
    "Save file again."
   ]
  },
  {
   "cell_type": "code",
   "execution_count": null,
   "metadata": {},
   "outputs": [],
   "source": [
    "# Run\n",
    "tiernames.append('3')  # name of the latin transcription tier\n",
    "transliterated_test_tg = GridTextTranscribed.from_tg_file(path_to_test_tg_save, *tiernames, align=True)\n",
    "transliterated_test_tg.save_tg(path_to_test_tg_save)"
   ]
  },
  {
   "cell_type": "markdown",
   "metadata": {},
   "source": [
    "## Step 6\n",
    "\n",
    "Run tests before making html heap. All intervals without corresponding translation will be stored in *error_heap.log*.\n",
    "\n",
    "**Add translation and align the boundaries in the TextGrid file before Step 7.**"
   ]
  },
  {
   "cell_type": "code",
   "execution_count": null,
   "metadata": {},
   "outputs": [],
   "source": [
    "# Run\n",
    "test_test = TestGridText(transliterated_test_tg)\n",
    "test_test.test_interval_boundaries()  # test boundaries"
   ]
  },
  {
   "cell_type": "markdown",
   "metadata": {},
   "source": [
    "## Step 7\n",
    "\n",
    "Make html heap.\n",
    "\n",
    "Row result:\n",
    "\n",
    "![heap](img/heap.png)"
   ]
  },
  {
   "cell_type": "code",
   "execution_count": null,
   "metadata": {},
   "outputs": [],
   "source": [
    "# Run\n",
    "make_heap(transliterated_test_tg)"
   ]
  }
 ],
 "metadata": {
  "kernelspec": {
   "display_name": "Python 3 (ipykernel)",
   "language": "python",
   "name": "python3"
  },
  "language_info": {
   "codemirror_mode": {
    "name": "ipython",
    "version": 3
   },
   "file_extension": ".py",
   "mimetype": "text/x-python",
   "name": "python",
   "nbconvert_exporter": "python",
   "pygments_lexer": "ipython3",
   "version": "3.11.4"
  }
 },
 "nbformat": 4,
 "nbformat_minor": 1
}
