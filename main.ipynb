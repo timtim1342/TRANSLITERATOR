{
 "cells": [
  {
   "cell_type": "markdown",
   "metadata": {},
   "source": [
    "# folder structure\n",
    "\n",
    "You need the following project structure:\n",
    "\n",
    "    |_main.ipynb\n",
    "    |_<b>cyrillic_textgrids</b>\n",
    "                |_<i>YourTextgrid</i>.TextGrid\n",
    "                |_...\n",
    "    |_<b>latin_textgrids</b>\n",
    "    |_gridtext.py\n",
    "    |_<i>YourTransliterationDictionary</i>.csv"
   ]
  },
  {
   "cell_type": "markdown",
   "metadata": {},
   "source": [
    "# transliteration"
   ]
  },
  {
   "cell_type": "markdown",
   "metadata": {},
   "source": [
    "## TextGrid\n",
    "\n",
    "First, the code replaces blank translation of Russian in transcription, for example:\n",
    "\n",
    "![blank](img/blank_translation.png)\n",
    "\n",
    "This should be done so that you can align the borders and not lose empty intervals.\n",
    "\n",
    "Then, it transliterates transcription tier.\n",
    "\n",
    "And finally, it saves transliterated TextGrid file."
   ]
  },
  {
   "cell_type": "markdown",
   "metadata": {},
   "source": [
    "### Code"
   ]
  },
  {
   "cell_type": "code",
   "execution_count": 9,
   "metadata": {},
   "outputs": [
    {
     "name": "stdout",
     "output_type": "stream",
     "text": [
      "Defaulting to user installation because normal site-packages is not writeable\n",
      "Requirement already satisfied: praatio==5.1.1 in /home/tim/.local/lib/python3.10/site-packages (5.1.1)\n",
      "Requirement already satisfied: typing-extensions in /home/tim/.local/lib/python3.10/site-packages (from praatio==5.1.1) (4.6.3)\n"
     ]
    }
   ],
   "source": [
    "# Run\n",
    "\n",
    "!pip install praatio==5.1.1"
   ]
  },
  {
   "cell_type": "code",
   "execution_count": 10,
   "metadata": {},
   "outputs": [],
   "source": [
    "# Run\n",
    "\n",
    "from os import walk\n",
    "from os.path import join\n",
    "from gridtext import transliterate_tg, get_translit_dictionary"
   ]
  },
  {
   "cell_type": "markdown",
   "metadata": {},
   "source": [
    "Specify *transcription* and *translation* tier names in TextGrids (they should be the same in all texts) as well as *the name where the Latin transcription* will be written.\n",
    "\n",
    "Specify *the name of transliteration dictionary* and the separator, if necessary (by default ',')."
   ]
  },
  {
   "cell_type": "code",
   "execution_count": 11,
   "metadata": {},
   "outputs": [],
   "source": [
    "# Edit\n",
    "\n",
    "tier_names = ['2', '1']  # [translation tier, transcription tier]\n",
    "latin_tier = '3'\n",
    "translit_dictionary = get_translit_dictionary('transl_dict_kina.csv')  # name of transliteration dictionary"
   ]
  },
  {
   "cell_type": "code",
   "execution_count": 12,
   "metadata": {},
   "outputs": [
    {
     "name": "stdout",
     "output_type": "stream",
     "text": [
      "start of transliteration: tkt2019_aishat_a.TextGrid\n",
      "tkt2019_aishat_a.TextGrid DONE\n",
      "start of transliteration: tkt2019_aishat_b.TextGrid\n",
      "tkt2019_aishat_b.TextGrid DONE\n",
      "start of transliteration: tkt2019_supian_l.TextGrid\n",
      "tkt2019_supian_l.TextGrid DONE\n",
      "start of transliteration: tkt_ptm_patimat1951_e.TextGrid\n",
      "tkt_ptm_patimat1951_e.TextGrid DONE\n",
      "start of transliteration: tkt_ptm_AUD-20200603-WA0013.TextGrid\n",
      "tkt_ptm_AUD-20200603-WA0013.TextGrid DONE\n",
      "start of transliteration: tkt_ptm_murtazali1963_b.TextGrid\n",
      "tkt_ptm_murtazali1963_b.TextGrid DONE\n",
      "start of transliteration: tkt_ptm_muslimat1960_b.TextGrid\n",
      "tkt_ptm_muslimat1960_b.TextGrid DONE\n",
      "start of transliteration: tkt2019_imahadgi_m.TextGrid\n",
      "tkt2019_imahadgi_m.TextGrid DONE\n",
      "start of transliteration: tkt2019_supian_d.TextGrid\n",
      "tkt2019_supian_d.TextGrid DONE\n",
      "start of transliteration: tkt2019_supian_s.TextGrid\n",
      "tkt2019_supian_s.TextGrid DONE\n",
      "start of transliteration: tkt2019_gazali_e.TextGrid\n",
      "tkt2019_gazali_e.TextGrid DONE\n",
      "start of transliteration: tkt_ptm_marzijat_d_r.TextGrid\n",
      "tkt_ptm_marzijat_d_r.TextGrid DONE\n",
      "start of transliteration: tkt_ptm_murtazali1963_c.TextGrid\n",
      "tkt_ptm_murtazali1963_c.TextGrid DONE\n",
      "start of transliteration: tkt2019_imahadgi_o.TextGrid\n",
      "tkt2019_imahadgi_o.TextGrid DONE\n",
      "start of transliteration: tkt2019_imahadgi_j.TextGrid\n",
      "tkt2019_imahadgi_j.TextGrid DONE\n",
      "start of transliteration: tkt2019_imahadgi_k.TextGrid\n",
      "tkt2019_imahadgi_k.TextGrid DONE\n",
      "start of transliteration: tkt2019_imahadgi_d.TextGrid\n",
      "tkt2019_imahadgi_d.TextGrid DONE\n",
      "start of transliteration: tkt_ptm_muslimat1960_a.TextGrid\n",
      "tkt_ptm_muslimat1960_a.TextGrid DONE\n",
      "start of transliteration: tkt_ptm_AUD-20200603-WA0015.TextGrid\n",
      "tkt_ptm_AUD-20200603-WA0015.TextGrid DONE\n",
      "start of transliteration: tkt_ptm_murtazali1963_e.TextGrid\n",
      "tkt_ptm_murtazali1963_e.TextGrid DONE\n",
      "start of transliteration: tkt_ptm_murtazali1963_d.TextGrid\n",
      "tkt_ptm_murtazali1963_d.TextGrid DONE\n",
      "start of transliteration: WhatsApp_Audio_2022-06-19_at_16_23_20.TextGrid\n",
      "WhatsApp_Audio_2022-06-19_at_16_23_20.TextGrid DONE\n",
      "start of transliteration: tkt2019_aishat_f.TextGrid\n",
      "tkt2019_aishat_f.TextGrid DONE\n",
      "start of transliteration: tkt2019_supian_q.TextGrid\n",
      "tkt2019_supian_q.TextGrid DONE\n",
      "start of transliteration: tkt2019_supian_k.TextGrid\n",
      "tkt2019_supian_k.TextGrid DONE\n",
      "start of transliteration: tkt2019_magomedrasul_c.TextGrid\n",
      "tkt2019_magomedrasul_c.TextGrid DONE\n",
      "start of transliteration: tkt2019_imahadgi_f.TextGrid\n",
      "tkt2019_imahadgi_f.TextGrid DONE\n",
      "start of transliteration: tkt2019_gazali_d.TextGrid\n",
      "tkt2019_gazali_d.TextGrid DONE\n",
      "start of transliteration: tkt2019_supian_m.TextGrid\n",
      "tkt2019_supian_m.TextGrid DONE\n",
      "start of transliteration: tkt2019_supian_p.TextGrid\n",
      "tkt2019_supian_p.TextGrid DONE\n",
      "start of transliteration: tkt2019_imahadgi_g.TextGrid\n",
      "tkt2019_imahadgi_g.TextGrid DONE\n",
      "start of transliteration: tkt_ptm_AUD-20200603-WA0019.TextGrid\n",
      "tkt_ptm_AUD-20200603-WA0019.TextGrid DONE\n",
      "start of transliteration: tkt2019_gazali_a.TextGrid\n",
      "tkt2019_gazali_a.TextGrid DONE\n",
      "start of transliteration: tkt_ptm_asijat1947_b.TextGrid\n",
      "tkt_ptm_asijat1947_b.TextGrid DONE\n",
      "start of transliteration: WhatsApp_Audio_2022-06-19_at_16_23_21.TextGrid\n",
      "WhatsApp_Audio_2022-06-19_at_16_23_21.TextGrid DONE\n",
      "start of transliteration: tkt2019_gazali_c.TextGrid\n",
      "tkt2019_gazali_c.TextGrid DONE\n",
      "start of transliteration: tkt2019_supian_n.TextGrid\n",
      "tkt2019_supian_n.TextGrid DONE\n",
      "start of transliteration: tkt2019_supian_i.TextGrid\n",
      "tkt2019_supian_i.TextGrid DONE\n",
      "start of transliteration: tkt2019_imahadgi_e.TextGrid\n",
      "tkt2019_imahadgi_e.TextGrid DONE\n",
      "start of transliteration: tkt_ptm_AUD-20200607-WA0004.TextGrid\n",
      "tkt_ptm_AUD-20200607-WA0004.TextGrid DONE\n",
      "start of transliteration: tkt2019_supian_t.TextGrid\n",
      "tkt2019_supian_t.TextGrid DONE\n",
      "start of transliteration: tkt2019_aishat_c.TextGrid\n",
      "tkt2019_aishat_c.TextGrid DONE\n",
      "start of transliteration: tkt_ptm_murtazali1963_b_opus.TextGrid\n",
      "tkt_ptm_murtazali1963_b_opus.TextGrid DONE\n",
      "start of transliteration: tkt2019_supian_c.TextGrid\n",
      "tkt2019_supian_c.TextGrid DONE\n",
      "start of transliteration: tkt_ptm_murtazali1963_h.TextGrid\n",
      "tkt_ptm_murtazali1963_h.TextGrid DONE\n",
      "start of transliteration: tkt2019_imahadgi_c.TextGrid\n",
      "tkt2019_imahadgi_c.TextGrid DONE\n",
      "start of transliteration: tkt2019_aishat_g.TextGrid\n",
      "tkt2019_aishat_g.TextGrid DONE\n",
      "start of transliteration: tkt2019_supian_h.TextGrid\n",
      "tkt2019_supian_h.TextGrid DONE\n",
      "start of transliteration: tkt2019_aishat_e.TextGrid\n",
      "tkt2019_aishat_e.TextGrid DONE\n",
      "start of transliteration: tkt_ptm_asijat1947_a.TextGrid\n",
      "tkt_ptm_asijat1947_a.TextGrid DONE\n",
      "start of transliteration: tkt2019_dialogue_b.TextGrid\n",
      "tkt2019_dialogue_b.TextGrid DONE\n",
      "start of transliteration: WhatsApp_Audio_2022-06-19_at_16_23_20__1_.TextGrid\n",
      "WhatsApp_Audio_2022-06-19_at_16_23_20__1_.TextGrid DONE\n",
      "start of transliteration: tkt2019_supian_a.TextGrid\n",
      "tkt2019_supian_a.TextGrid DONE\n",
      "start of transliteration: tkt_ptm_patimat1951_d.TextGrid\n",
      "tkt_ptm_patimat1951_d.TextGrid DONE\n",
      "start of transliteration: WhatsApp_Audio_2022-06-19_at_16_23_22.TextGrid\n",
      "WhatsApp_Audio_2022-06-19_at_16_23_22.TextGrid DONE\n",
      "start of transliteration: tkt2019_imahadgi_a.TextGrid\n",
      "tkt2019_imahadgi_a.TextGrid DONE\n",
      "start of transliteration: tkt2019_supian_g.TextGrid\n",
      "tkt2019_supian_g.TextGrid DONE\n",
      "start of transliteration: tkt_ptm_murtazali1963_a_opus.TextGrid\n",
      "tkt_ptm_murtazali1963_a_opus.TextGrid DONE\n",
      "start of transliteration: tkt_ptm_murtazali1963_g.TextGrid\n",
      "tkt_ptm_murtazali1963_g.TextGrid DONE\n",
      "start of transliteration: tkt2019_gazali_f.TextGrid\n",
      "tkt2019_gazali_f.TextGrid DONE\n",
      "start of transliteration: WhatsApp_Audio_2020-09-09_at_8_19_14_PM.TextGrid\n",
      "WhatsApp_Audio_2020-09-09_at_8_19_14_PM.TextGrid DONE\n",
      "start of transliteration: WhatsApp_Audio_2022-06-19_at_16_23_20__2_.TextGrid\n",
      "WhatsApp_Audio_2022-06-19_at_16_23_20__2_.TextGrid DONE\n",
      "start of transliteration: tkt2019_imahadgi_h.TextGrid\n",
      "tkt2019_imahadgi_h.TextGrid DONE\n",
      "start of transliteration: tkt2019_imahadgi_i.TextGrid\n",
      "tkt2019_imahadgi_i.TextGrid DONE\n",
      "start of transliteration: tkt2019_supian_u.TextGrid\n",
      "tkt2019_supian_u.TextGrid DONE\n",
      "start of transliteration: tkt_ptm_patimat1951_c.TextGrid\n",
      "tkt_ptm_patimat1951_c.TextGrid DONE\n",
      "start of transliteration: tkt2019_magomedrasul_a.TextGrid\n",
      "tkt2019_magomedrasul_a.TextGrid DONE\n",
      "start of transliteration: tkt2019_imahadgi_b.TextGrid\n",
      "tkt2019_imahadgi_b.TextGrid DONE\n",
      "start of transliteration: tkt_ptm_murtazali1963_f.TextGrid\n",
      "tkt_ptm_murtazali1963_f.TextGrid DONE\n",
      "start of transliteration: WhatsApp_Audio_2022-06-19_at_16_23_19.TextGrid\n",
      "WhatsApp_Audio_2022-06-19_at_16_23_19.TextGrid DONE\n",
      "start of transliteration: tkt2019_aishat_d.TextGrid\n",
      "tkt2019_aishat_d.TextGrid DONE\n",
      "start of transliteration: tkt2019_imahadgi_n.TextGrid\n",
      "tkt2019_imahadgi_n.TextGrid DONE\n",
      "start of transliteration: tkt2019_supian_o.TextGrid\n",
      "tkt2019_supian_o.TextGrid DONE\n",
      "start of transliteration: WhatsApp_Audio_2022-06-19_at_16_23_21__1_.TextGrid\n",
      "WhatsApp_Audio_2022-06-19_at_16_23_21__1_.TextGrid DONE\n",
      "start of transliteration: tkt_ptm_kumsijat_c.TextGrid\n",
      "tkt_ptm_kumsijat_c.TextGrid DONE\n",
      "start of transliteration: tkt_ptm_kumsijat_a.TextGrid\n",
      "tkt_ptm_kumsijat_a.TextGrid DONE\n",
      "start of transliteration: tkt_ptm_kumsijat_d.TextGrid\n",
      "tkt_ptm_kumsijat_d.TextGrid DONE\n",
      "start of transliteration: tkt2019_supian_r.TextGrid\n",
      "tkt2019_supian_r.TextGrid DONE\n",
      "start of transliteration: tkt2019_supian_j.TextGrid\n",
      "tkt2019_supian_j.TextGrid DONE\n",
      "start of transliteration: tkt2019_supian_b.TextGrid\n",
      "tkt2019_supian_b.TextGrid DONE\n",
      "start of transliteration: TEST.TextGrid\n",
      "TEST.TextGrid DONE\n",
      "start of transliteration: tkt2019_imahadgi_l.TextGrid\n",
      "tkt2019_imahadgi_l.TextGrid DONE\n",
      "start of transliteration: tkt2019_supian_f.TextGrid\n",
      "tkt2019_supian_f.TextGrid DONE\n",
      "start of transliteration: tkt2019_magomedrasul_b.TextGrid\n",
      "tkt2019_magomedrasul_b.TextGrid DONE\n",
      "start of transliteration: tkt2019_magomedrasul_d.TextGrid\n",
      "tkt2019_magomedrasul_d.TextGrid DONE\n",
      "start of transliteration: tkt2019_supian_e.TextGrid\n",
      "tkt2019_supian_e.TextGrid DONE\n",
      "start of transliteration: tkt_ptm_marzijat_d_u.TextGrid\n",
      "tkt_ptm_marzijat_d_u.TextGrid DONE\n",
      "start of transliteration: tkt2019_gazali_g.TextGrid\n",
      "tkt2019_gazali_g.TextGrid DONE\n",
      "start of transliteration: tkt_ptm_kumsijat_b.TextGrid\n",
      "tkt_ptm_kumsijat_b.TextGrid DONE\n",
      "start of transliteration: WhatsApp_Audio_2022-06-19_at_16_23_22__1_.TextGrid\n",
      "WhatsApp_Audio_2022-06-19_at_16_23_22__1_.TextGrid DONE\n"
     ]
    }
   ],
   "source": [
    "# Run\n",
    "\n",
    "for root, dirs, files in walk('cyrillic_textgrids'):\n",
    "    for filename in files:\n",
    "        print(f'start of transliteration: {filename}')\n",
    "\n",
    "        try:\n",
    "            path_to_tg = join('cyrillic_textgrids', filename)\n",
    "            transliterate_tg(path_to_tg, translit_dictionary, tier_names, latin_tier)\n",
    "            print(f'{filename} DONE')\n",
    "            \n",
    "        except Exception as ex:\n",
    "            print(f'{ex}')"
   ]
  },
  {
   "cell_type": "markdown",
   "metadata": {},
   "source": [
    "## just text\n",
    "\n",
    "If you need to transliterate only one string:"
   ]
  },
  {
   "cell_type": "markdown",
   "metadata": {},
   "source": [
    "### Code"
   ]
  },
  {
   "cell_type": "code",
   "execution_count": 13,
   "metadata": {},
   "outputs": [],
   "source": [
    "# Run\n",
    "\n",
    "from gridtext import transliterate_string"
   ]
  },
  {
   "cell_type": "code",
   "execution_count": 14,
   "metadata": {},
   "outputs": [],
   "source": [
    "# Edit\n",
    "\n",
    "text_for_transliteration = \"\"\"\n",
    "какой-то\n",
    "текст\n",
    "\"\"\"\n",
    "translit_dictionary = get_translit_dictionary('transl_dict_kina.csv')  # name of transliteration dictionary"
   ]
  },
  {
   "cell_type": "code",
   "execution_count": 15,
   "metadata": {},
   "outputs": [
    {
     "name": "stdout",
     "output_type": "stream",
     "text": [
      "\n",
      "kakoj-to\n",
      "tekst\n",
      "\n"
     ]
    }
   ],
   "source": [
    "# Run\n",
    "\n",
    "transliterated_text = transliterate_string(text_for_transliteration, translit_dictionary)\n",
    "\n",
    "print(transliterated_text)"
   ]
  }
 ],
 "metadata": {
  "kernelspec": {
   "display_name": "Python 3 (ipykernel)",
   "language": "python",
   "name": "python3"
  },
  "language_info": {
   "codemirror_mode": {
    "name": "ipython",
    "version": 3
   },
   "file_extension": ".py",
   "mimetype": "text/x-python",
   "name": "python",
   "nbconvert_exporter": "python",
   "pygments_lexer": "ipython3",
   "version": "3.11.5"
  }
 },
 "nbformat": 4,
 "nbformat_minor": 1
}
