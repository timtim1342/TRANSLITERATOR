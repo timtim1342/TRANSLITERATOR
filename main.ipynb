{
 "cells": [
  {
   "cell_type": "markdown",
   "source": [
    "# Pipeline (so far, only for one text)\n",
    "\n",
    "You need the following project structure:\n",
    "\n",
    "    |_main.ipynb\n",
    "    |_<b>cyrillic_textgrids</b>\n",
    "                |_<i>YourTextgrid</i>.TextGrid\n",
    "    |_<b>latin_textgrids</b>\n",
    "    |_gridtext.py\n",
    "    |_heap.py\n",
    "    |_setup_logger.py\n",
    "    |_tests.py\n",
    "    |_transl_dict.csv"
   ],
   "metadata": {
    "collapsed": false
   }
  },
  {
   "cell_type": "code",
   "execution_count": null,
   "outputs": [],
   "source": [
    "# Run\n",
    "from os.path import join\n",
    "from gridtext import GridText, GridTextTranscribed\n",
    "from heap import make_heap\n",
    "from tests import TestGridText\n",
    "\n",
    "def translit_dict():  # old_version to rewrite\n",
    "    with open('transl_dict.csv', 'r', encoding='UTF-8') as f:\n",
    "        txt = f.read()\n",
    "    txt_list = txt.split('\\n')\n",
    "    txt_list = [i.split(',') for i in txt_list]\n",
    "    translit_dict = {i[0]: i[1] for i in txt_list if len(i) == 2 and i[0] != ''}\n",
    "\n",
    "    translit_dict_cap = {}\n",
    "    for key in translit_dict.keys(): #  ad capitals\n",
    "        translit_dict_cap[key.capitalize()] = translit_dict[key].capitalize()\n",
    "    translit_dict.update(translit_dict_cap)\n",
    "\n",
    "    return translit_dict\n"
   ],
   "metadata": {
    "collapsed": false
   }
  },
  {
   "cell_type": "markdown",
   "source": [
    "## Step 1\n",
    "\n",
    "First, specify the TextGrid file name and tier names:"
   ],
   "metadata": {
    "collapsed": false
   }
  },
  {
   "cell_type": "code",
   "execution_count": null,
   "outputs": [],
   "source": [
    "# Edit\n",
    "test_tg_name = 'TEST.TextGrid'  # your filename\n",
    "tiernames = ['2', '1']  # [translation tier, transcription tier]"
   ],
   "metadata": {
    "collapsed": false
   }
  },
  {
   "cell_type": "markdown",
   "source": [
    "## Step 2\n",
    "\n",
    "Replace blank translation of russian in transcription, for example:\n",
    "\n",
    "![blank](img/blank_translation.png)\n",
    "\n",
    "This should be done so that you can align the borders and not lose empty intervals."
   ],
   "metadata": {
    "collapsed": false
   }
  },
  {
   "cell_type": "code",
   "execution_count": null,
   "metadata": {
    "collapsed": true
   },
   "outputs": [],
   "source": [
    "# Run\n",
    "path_to_test_tg = join('cyrillic_textgrids', test_tg_name)\n",
    "test_tg = GridText.from_tg_file(path_to_test_tg, *tiernames)\n",
    "test_tg.replace_blank_translation()"
   ]
  },
  {
   "cell_type": "markdown",
   "source": [
    "## Step 3\n",
    "\n",
    "Transliterate transcription tier."
   ],
   "metadata": {
    "collapsed": false
   }
  },
  {
   "cell_type": "code",
   "execution_count": null,
   "outputs": [],
   "source": [
    "# Run\n",
    "transliterated_test_tg = test_tg.transliterate_tg('3', translit_dict())\n",
    "print(GridTextTranscribed.get_labels(transliterated_test_tg.latin_transcription))"
   ],
   "metadata": {
    "collapsed": false
   }
  },
  {
   "cell_type": "markdown",
   "source": [
    "## Step 4\n",
    "\n",
    "Save transliterated TextGrid file."
   ],
   "metadata": {
    "collapsed": false
   }
  },
  {
   "cell_type": "code",
   "execution_count": null,
   "outputs": [],
   "source": [
    "# Run\n",
    "path_to_test_tg_save = join('latin_textgrids', 'test_' + test_tg_name)\n",
    "transliterated_test_tg.save_tg(path_to_test_tg_save)"
   ],
   "metadata": {
    "collapsed": false
   }
  },
  {
   "cell_type": "markdown",
   "source": [
    "## Step 5\n",
    "\n",
    "Align boundaries on tiers, to avoid mistakes when searching for a translation:\n",
    "\n",
    "![misclick](img/misclicks.png)\n",
    "\n",
    "Save file again."
   ],
   "metadata": {
    "collapsed": false
   }
  },
  {
   "cell_type": "code",
   "execution_count": null,
   "outputs": [],
   "source": [
    "# Run\n",
    "tiernames.append('3')  # name of the latin transcription tier\n",
    "transliterated_test_tg = GridTextTranscribed.from_tg_file(path_to_test_tg_save, *tiernames, align=True)\n",
    "transliterated_test_tg.save_tg(path_to_test_tg_save)"
   ],
   "metadata": {
    "collapsed": false
   }
  },
  {
   "cell_type": "markdown",
   "source": [
    "## Step 6\n",
    "\n",
    "Run tests before making html heap. All intervals without corresponding translation will be stored in *error_heap.log*.\n",
    "\n",
    "**Add translation and align the boundaries in the TextGrid file before Step 7.**"
   ],
   "metadata": {
    "collapsed": false
   }
  },
  {
   "cell_type": "code",
   "execution_count": null,
   "outputs": [],
   "source": [
    "# Run\n",
    "test_test = TestGridText(transliterated_test_tg)\n",
    "test_test.test_interval_boundaries()  # test boundaries"
   ],
   "metadata": {
    "collapsed": false
   }
  },
  {
   "cell_type": "markdown",
   "source": [
    "## Step 7\n",
    "\n",
    "Make html heap.\n",
    "\n",
    "Row result:\n",
    "\n",
    "![heap](img/heap.png)"
   ],
   "metadata": {
    "collapsed": false
   }
  },
  {
   "cell_type": "code",
   "execution_count": null,
   "outputs": [],
   "source": [
    "# Run\n",
    "make_heap(transliterated_test_tg)"
   ],
   "metadata": {
    "collapsed": false
   }
  }
 ],
 "metadata": {
  "kernelspec": {
   "display_name": "Python 3",
   "language": "python",
   "name": "python3"
  },
  "language_info": {
   "codemirror_mode": {
    "name": "ipython",
    "version": 2
   },
   "file_extension": ".py",
   "mimetype": "text/x-python",
   "name": "python",
   "nbconvert_exporter": "python",
   "pygments_lexer": "ipython2",
   "version": "2.7.6"
  }
 },
 "nbformat": 4,
 "nbformat_minor": 0
}
